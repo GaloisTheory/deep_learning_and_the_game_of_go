{
 "cells": [
  {
   "cell_type": "code",
   "execution_count": 1,
   "metadata": {},
   "outputs": [],
   "source": [
    "from sequential_neural_net import SequentialNeuralNet, DenseLayer, ActivationLayer\n",
    "from data import prepare_data"
   ]
  },
  {
   "cell_type": "code",
   "execution_count": 2,
   "metadata": {},
   "outputs": [],
   "source": [
    "X_train, y_train, X_test, y_test, X_val, y_val = prepare_data()\n",
    "\n",
    "X_train_normalized = X_train / 255.0\n",
    "X_test_normalized = X_test / 255.0"
   ]
  },
  {
   "cell_type": "code",
   "execution_count": 3,
   "metadata": {},
   "outputs": [],
   "source": [
    "net = SequentialNeuralNet()\n",
    "net.add(DenseLayer(784, 392))\n",
    "net.add(ActivationLayer(392, activation_type='relu'))\n",
    "net.add(DenseLayer(392, 196))\n",
    "net.add(ActivationLayer(196, activation_type='relu'))\n",
    "net.add(DenseLayer(196, 10))\n",
    "net.add(ActivationLayer(10, activation_type='softmax'))"
   ]
  },
  {
   "cell_type": "code",
   "execution_count": 7,
   "metadata": {},
   "outputs": [
    {
     "name": "stdout",
     "output_type": "stream",
     "text": [
      "Epoch 0: Training accuracy: 38054/42000 (90.60%) | Test accuracy: 12389/14000 (88.49%)\n",
      "Epoch 1: Training accuracy: 37564/42000 (89.44%) | Test accuracy: 12188/14000 (87.06%)\n",
      "Epoch 2: Training accuracy: 38178/42000 (90.90%) | Test accuracy: 12410/14000 (88.64%)\n",
      "Epoch 3: Training accuracy: 38273/42000 (91.13%) | Test accuracy: 12419/14000 (88.71%)\n",
      "Epoch 4: Training accuracy: 38330/42000 (91.26%) | Test accuracy: 12445/14000 (88.89%)\n",
      "Epoch 5: Training accuracy: 37812/42000 (90.03%) | Test accuracy: 12279/14000 (87.71%)\n",
      "Epoch 6: Training accuracy: 38172/42000 (90.89%) | Test accuracy: 12385/14000 (88.46%)\n",
      "Epoch 7: Training accuracy: 38467/42000 (91.59%) | Test accuracy: 12480/14000 (89.14%)\n",
      "Epoch 8: Training accuracy: 38333/42000 (91.27%) | Test accuracy: 12405/14000 (88.61%)\n",
      "Epoch 9: Training accuracy: 38607/42000 (91.92%) | Test accuracy: 12501/14000 (89.29%)\n",
      "\n",
      "==================================================\n",
      "FINAL RESULTS:\n",
      "Final Training Accuracy: 38607/42000 (91.92%)\n",
      "Final Test Accuracy: 12501/14000 (89.29%)\n",
      "==================================================\n"
     ]
    }
   ],
   "source": [
    "net.train(X_train=X_train_normalized, \n",
    "          y_train=y_train, \n",
    "          epochs=10, \n",
    "          mini_batch_size=100, \n",
    "          learning_rate=0.1, \n",
    "          X_test=X_test_normalized,\n",
    "          y_test=y_test)"
   ]
  },
  {
   "cell_type": "code",
   "execution_count": 22,
   "metadata": {},
   "outputs": [
    {
     "name": "stdout",
     "output_type": "stream",
     "text": [
      "Model saved as 'notebook/models/mnist_sequential_relu.pkl'\n"
     ]
    }
   ],
   "source": [
    "import pickle\n",
    "import os\n",
    "\n",
    "# Create models directory if it doesn't exist\n",
    "os.makedirs('notebook/models', exist_ok=True)\n",
    "\n",
    "# Save the trained network\n",
    "with open('notebook/models/mnist_sequential_relu.pkl', 'wb') as f:\n",
    "    pickle.dump(net, f)\n",
    "\n",
    "print(\"Model saved as 'notebook/models/mnist_sequential_relu.pkl'\")"
   ]
  },
  {
   "cell_type": "code",
   "execution_count": 5,
   "metadata": {},
   "outputs": [
    {
     "name": "stdout",
     "output_type": "stream",
     "text": [
      "Model loaded successfully!\n",
      "Loaded model: SequentialNeuralNet(layers=[<sequential_neural_net.DenseLayer object at 0x13ed76a90>, <sequential_neural_net.ActivationLayer object at 0x13ed76be0>, <sequential_neural_net.DenseLayer object at 0x13ed76f10>, <sequential_neural_net.ActivationLayer object at 0x13ef04370>, <sequential_neural_net.DenseLayer object at 0x13eea0d60>, <sequential_neural_net.ActivationLayer object at 0x13eea0cd0>])\n"
     ]
    }
   ],
   "source": [
    "import pickle\n",
    "with open('notebook/models/mnist_sequential_relu.pkl', 'rb') as f:\n",
    "    loaded_net = pickle.load(f)\n",
    "\n",
    "print(\"Model loaded successfully!\")\n",
    "print(f\"Loaded model: {loaded_net.describe()}\")"
   ]
  },
  {
   "cell_type": "code",
   "execution_count": 6,
   "metadata": {},
   "outputs": [
    {
     "data": {
      "text/plain": [
       "12456"
      ]
     },
     "execution_count": 6,
     "metadata": {},
     "output_type": "execute_result"
    }
   ],
   "source": [
    "X_val_normalized = X_val / 255.0\n",
    "\n",
    "loaded_net.evaluate(list(zip(X_val_normalized, y_val)))"
   ]
  },
  {
   "cell_type": "code",
   "execution_count": null,
   "metadata": {},
   "outputs": [],
   "source": []
  }
 ],
 "metadata": {
  "kernelspec": {
   "display_name": ".venv",
   "language": "python",
   "name": "python3"
  },
  "language_info": {
   "codemirror_mode": {
    "name": "ipython",
    "version": 3
   },
   "file_extension": ".py",
   "mimetype": "text/x-python",
   "name": "python",
   "nbconvert_exporter": "python",
   "pygments_lexer": "ipython3",
   "version": "3.9.6"
  }
 },
 "nbformat": 4,
 "nbformat_minor": 2
}
